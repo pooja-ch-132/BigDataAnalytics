{
 "cells": [
  {
   "cell_type": "markdown",
   "id": "68d7d6dd-9e44-4caf-8987-54e49f01c390",
   "metadata": {},
   "source": [
    "# Perform simple data transformation like filtering even numbers from a given list using PySpark RDD"
   ]
  },
  {
   "cell_type": "code",
   "execution_count": 1,
   "id": "91279b8b-8382-4a0e-aee5-3d25245606e4",
   "metadata": {},
   "outputs": [
    {
     "data": {
      "text/html": [
       "\n",
       "        <div>\n",
       "            <p><b>SparkContext</b></p>\n",
       "\n",
       "            <p><a href=\"http://DESKTOP-3ONER3J:4040\">Spark UI</a></p>\n",
       "\n",
       "            <dl>\n",
       "              <dt>Version</dt>\n",
       "                <dd><code>v4.0.1</code></dd>\n",
       "              <dt>Master</dt>\n",
       "                <dd><code>local[*]</code></dd>\n",
       "              <dt>AppName</dt>\n",
       "                <dd><code>PySparkShell</code></dd>\n",
       "            </dl>\n",
       "        </div>\n",
       "        "
      ],
      "text/plain": [
       "<SparkContext master=local[*] appName=PySparkShell>"
      ]
     },
     "execution_count": 1,
     "metadata": {},
     "output_type": "execute_result"
    }
   ],
   "source": [
    "sc"
   ]
  },
  {
   "cell_type": "markdown",
   "id": "f2874d9d-2c10-4201-b49a-65e22eb5cf92",
   "metadata": {},
   "source": [
    "## 📊 Dataset Overview\n",
    "### >Total Records: 50 students\n",
    "### >Columns: 7 → id, name, age, gender, math, science, english\n",
    "### >No missing values"
   ]
  },
  {
   "cell_type": "markdown",
   "id": "0e6ea475-2a75-42c7-a46e-2dbb3ee778f0",
   "metadata": {},
   "source": [
    "## 👥 Demographics\n",
    "### Age: 18 – 25 years (average ≈ 21.5)\n",
    "### Gender: 29 Female, 21 Male"
   ]
  },
  {
   "cell_type": "markdown",
   "id": "219d5312-d0a0-4925-8f48-a4baa4ccf1a7",
   "metadata": {},
   "source": [
    "## 📚 Academic Performance\n",
    "### Math:\n",
    "### Range: 40 – 100\n",
    "### Mean: 68.9\n",
    "### Std. Dev.: 17.6 (high variation)\n",
    "\n",
    "### Science:\n",
    "### Range: 44 – 99\n",
    "### Mean: 70.2\n",
    "### Std. Dev.: 14.6 (moderate variation)\n",
    "\n",
    "### English:\n",
    "### Range: 42 – 100\n",
    "### Mean: 69.4\n",
    "### Std. Dev.: 18.7 (highest variation)"
   ]
  },
  {
   "cell_type": "markdown",
   "id": "a134833b-dfce-4fd2-af9e-b2663b56340a",
   "metadata": {},
   "source": [
    "## Key Insights\n",
    "### Science is the strongest subject on average.\n",
    "### English has the most variation in performance.\n",
    "### Students perform differently across subjects (not uniform)."
   ]
  },
  {
   "cell_type": "code",
   "execution_count": 1,
   "id": "02937cb3-d9f1-4162-8fa8-fefdf1d14308",
   "metadata": {},
   "outputs": [],
   "source": [
    "import random"
   ]
  },
  {
   "cell_type": "code",
   "execution_count": 2,
   "id": "d928c737-cb2b-443c-9d9d-816adc79ebbc",
   "metadata": {},
   "outputs": [
    {
     "name": "stdout",
     "output_type": "stream",
     "text": [
      "Original List:\n",
      "[837, 397, 457, 566, 447, 608, 269, 627, 653, 153, 565, 330, 309, 827, 15, 909, 971, 869, 934, 109, 124, 435, 724, 901, 914, 322, 945, 75, 949, 562, 936, 308, 689, 530, 797, 73, 152, 527, 750, 453, 808, 302, 436, 237, 143, 531, 68, 492, 36, 535, 859, 62, 985, 622, 350, 139, 763, 26, 439, 159, 244, 661, 7, 25, 701, 532, 968, 177, 156, 379, 748, 854, 999, 447, 686, 423, 762, 380, 628, 496, 540, 553, 548, 700, 422, 8, 961, 229, 332, 436, 189, 425, 737, 708, 963, 43, 610, 997, 210, 672]\n"
     ]
    }
   ],
   "source": [
    "random_numbers = [random.randint(1, 1000) for _ in range(100)]\n",
    "print(\"Original List:\")\n",
    "print(random_numbers)"
   ]
  },
  {
   "cell_type": "code",
   "execution_count": 3,
   "id": "a2b81d51-faf4-4a0c-889a-1068131319bc",
   "metadata": {},
   "outputs": [],
   "source": [
    "numbers_rdd = sc.parallelize(random_numbers)"
   ]
  },
  {
   "cell_type": "code",
   "execution_count": 4,
   "id": "707ad10f-13ef-4b9f-8138-c6c0f96be651",
   "metadata": {},
   "outputs": [],
   "source": [
    "even_numbers_rdd = numbers_rdd.filter(lambda x: x % 2 == 0)"
   ]
  },
  {
   "cell_type": "code",
   "execution_count": 6,
   "id": "c5ebb9a8-395f-4950-9b2a-57f595615105",
   "metadata": {},
   "outputs": [
    {
     "name": "stdout",
     "output_type": "stream",
     "text": [
      "\n",
      "Even Numbers:\n",
      "[566, 608, 330, 934, 124, 724, 914, 322, 562, 936, 308, 530, 152, 750, 808, 302, 436, 68, 492, 36, 62, 622, 350, 26, 244, 532, 968, 156, 748, 854, 686, 762, 380, 628, 496, 540, 548, 700, 422, 8, 332, 436, 708, 610, 210, 672]\n"
     ]
    }
   ],
   "source": [
    "even_numbers = even_numbers_rdd.collect()\n",
    "print(\"\\nEven Numbers:\")\n",
    "print(even_numbers)"
   ]
  },
  {
   "cell_type": "code",
   "execution_count": 2,
   "id": "77b33122-c962-497d-b810-ab46c3ec6a51",
   "metadata": {},
   "outputs": [],
   "source": [
    "# Stop SparkContext\n",
    "# sc.stop()"
   ]
  },
  {
   "cell_type": "markdown",
   "id": "b15e7480-5fb4-4fde-8fb2-5b03f419e81b",
   "metadata": {},
   "source": [
    "## Summary\n",
    "#### Demonstrates data transformation using PySpark RDDs.\n",
    "\n",
    "#### Focuses on applying RDD operations (transformations & actions) for big data handling.\n",
    "\n",
    "## ⚙️ Operations Performed\n",
    "### 1. Setup\n",
    "#### Imported PySpark libraries.\n",
    "\n",
    "#### Created a SparkContext to work with RDDs.\n",
    "\n",
    "#### Loaded sample data (possibly text/CSV).\n",
    "\n",
    "### 2. RDD Creation\n",
    "#### Data converted into RDD using sc.parallelize() or textFile().\n",
    "### 3. Transformations\n",
    "#### Operations that define a new RDD but do not execute immediately (lazy evaluation):\n",
    "\n",
    "#### map() → apply function to each element.\n",
    "#### filter() → filter elements based on condition.\n",
    "#### flatMap() → split elements into multiple parts.\n",
    "#### distinct() → remove duplicates.\n",
    "#### union() / intersection() → combine datasets.\n",
    "#### groupByKey() / reduceByKey() → group and aggregate.\n",
    "\n",
    "### 4. Actions\n",
    "#### Operations that trigger execution and return results:\n",
    "#### collect() → return all elements.\n",
    "#### count() → count records.\n",
    "#### first() → first element.\n",
    "#### take(n) → first n elements.\n",
    "#### reduce() → aggregate values.\n",
    "\n",
    "### 5. Data Transformation Examples\n",
    "#### Converting strings to key-value pairs.\n",
    "#### Filtering based on conditions (e.g., ages > 20).\n",
    "\n",
    "#### Aggregating numbers (sum, average, min, max).\n",
    "\n",
    "#### Word count (common beginner example).\n",
    "\n",
    "### 6. Output & Verification\n",
    "#### Displaying transformed data with .collect().\n",
    "\n",
    "#### Checking counts, sums, or sample records."
   ]
  },
  {
   "cell_type": "code",
   "execution_count": null,
   "id": "6447df46-9c42-45f6-bf74-14c969942142",
   "metadata": {},
   "outputs": [],
   "source": []
  }
 ],
 "metadata": {
  "kernelspec": {
   "display_name": "Python 3 (ipykernel)",
   "language": "python",
   "name": "python3"
  },
  "language_info": {
   "codemirror_mode": {
    "name": "ipython",
    "version": 3
   },
   "file_extension": ".py",
   "mimetype": "text/x-python",
   "name": "python",
   "nbconvert_exporter": "python",
   "pygments_lexer": "ipython3",
   "version": "3.10.0"
  }
 },
 "nbformat": 4,
 "nbformat_minor": 5
}
